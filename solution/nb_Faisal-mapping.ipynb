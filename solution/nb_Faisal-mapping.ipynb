{
  "cells": [
    {
      "cell_type": "code",
      "execution_count": 11,
      "id": "46e91174-98e7-403f-8034-9f1cccadb1de",
      "metadata": {
        "ExecuteTime": {
          "end_time": "2024-06-26T08:46:14.628474Z",
          "start_time": "2024-06-26T08:46:14.623437Z"
        },
        "id": "46e91174-98e7-403f-8034-9f1cccadb1de"
      },
      "outputs": [],
      "source": [
        "import pandas as pd\n",
        "import numpy as np"
      ]
    },
    {
      "cell_type": "code",
      "execution_count": 12,
      "id": "110a22d7-b451-48c8-8d34-124c610e2a36",
      "metadata": {
        "ExecuteTime": {
          "end_time": "2024-06-26T08:46:17.966576Z",
          "start_time": "2024-06-26T08:46:14.639164Z"
        },
        "hidden": true,
        "id": "110a22d7-b451-48c8-8d34-124c610e2a36"
      },
      "outputs": [],
      "source": [
        "df = pd.read_csv('/content/1429_1.csv',low_memory=False)\n",
        "df.dropna(subset=['reviews.text'], inplace=True)    # dropping rows with no review text\n",
        "df['name'] = df['name'].fillna(\"NA\")    # replace missing product names with \"NA\" for mapping"
      ]
    },
    {
      "cell_type": "code",
      "execution_count": 13,
      "id": "73323aa3",
      "metadata": {
        "ExecuteTime": {
          "end_time": "2024-06-26T09:08:35.920978Z",
          "start_time": "2024-06-26T09:08:35.914552Z"
        },
        "id": "73323aa3"
      },
      "outputs": [],
      "source": [
        "## Defining the mapping dicts\n",
        "\n",
        "name_categories = {\n",
        "    'All-New Fire HD 8 Tablet, 8 HD Display, Wi-Fi, 16 GB - Includes Special Offers, Magenta': 'Tablets',\n",
        "    'Kindle Oasis E-reader with Leather Charging Cover - Merlot, 6 High-Resolution Display (300 ppi), Wi-Fi - Includes Special Offers,,': 'E-readers',\n",
        "    'Amazon Kindle Lighted Leather Cover,,,\\r\\nAmazon Kindle Lighted Leather Cover,,,': 'Accessories',\n",
        "    'Amazon Kindle Lighted Leather Cover,,,\\r\\nKindle Keyboard,,,': 'Accessories',\n",
        "    'Kindle Keyboard,,,\\r\\nKindle Keyboard,,,': 'Accessories',\n",
        "    'All-New Fire HD 8 Tablet, 8 HD Display, Wi-Fi, 32 GB - Includes Special Offers, Magenta': 'Tablets',\n",
        "    'Fire HD 8 Tablet with Alexa, 8 HD Display, 32 GB, Tangerine - with Special Offers,': 'Tablets',\n",
        "    'Amazon 5W USB Official OEM Charger and Power Adapter for Fire Tablets and Kindle eReaders,,,\\r\\nAmazon 5W USB Official OEM Charger and Power Adapter for Fire Tablets and Kindle eReaders,,,': 'Accessories',\n",
        "    'All-New Kindle E-reader - Black, 6 Glare-Free Touchscreen Display, Wi-Fi - Includes Special Offers,,': 'E-readers',\n",
        "    'Amazon Kindle Fire Hd (3rd Generation) 8gb,,,\\r\\nAmazon Kindle Fire Hd (3rd Generation) 8gb,,,': 'E-readers',\n",
        "    'Fire Tablet, 7 Display, Wi-Fi, 8 GB - Includes Special Offers, Magenta': 'Tablets',\n",
        "    'Kindle Oasis E-reader with Leather Charging Cover - Black, 6 High-Resolution Display (300 ppi), Wi-Fi - Includes Special Offers,,': 'E-readers',\n",
        "    'Amazon - Kindle Voyage - 4GB - Wi-Fi + 3G - Black,,,\\r\\nAmazon - Kindle Voyage - 4GB - Wi-Fi + 3G - Black,,,': 'E-readers',\n",
        "    'Amazon - Kindle Voyage - 4GB - Wi-Fi + 3G - Black,,,\\r\\nFire HD 8 Tablet with Alexa, 8 HD Display, 16 GB, Tangerine - with Special Offers\",': 'E-readers',\n",
        "    'Fire HD 8 Tablet with Alexa, 8 HD Display, 16 GB, Tangerine - with Special Offers,': 'Tablets',\n",
        "    'Amazon Standing Protective Case for Fire HD 6 (4th Generation) - Black,,,\\r\\nAmazon Standing Protective Case for Fire HD 6 (4th Generation) - Black,,,': 'Accessories',\n",
        "    'Certified Refurbished Amazon Fire TV (Previous Generation - 1st),,,\\r\\nCertified Refurbished Amazon Fire TV (Previous Generation - 1st),,,': 'Streaming Devices & Smart Speakers',\n",
        "    'Brand New Amazon Kindle Fire 16gb 7 Ips Display Tablet Wifi 16 Gb Blue,,,': 'E-readers',\n",
        "    'Amazon Kindle Touch Leather Case (4th Generation - 2011 Release), Olive Green,,,\\r\\nAmazon Kindle Touch Leather Case (4th Generation - 2011 Release), Olive Green,,,': 'Accessories',\n",
        "    'Fire Kids Edition Tablet, 7 Display, Wi-Fi, 16 GB, Green Kid-Proof Case': 'Tablets',\n",
        "    'Amazon Kindle Paperwhite - eBook reader - 4 GB - 6 monochrome Paperwhite - touchscreen - Wi-Fi - black,,,': 'E-readers',\n",
        "    'Kindle Voyage E-reader, 6 High-Resolution Display (300 ppi) with Adaptive Built-in Light, PagePress Sensors, Wi-Fi - Includes Special Offers,': 'E-readers',\n",
        "    'Certified Refurbished Amazon Fire TV Stick (Previous Generation - 1st),,,\\r\\nCertified Refurbished Amazon Fire TV Stick (Previous Generation - 1st),,,': 'Streaming Devices & Smart Speakers',\n",
        "    'Certified Refurbished Amazon Fire TV Stick (Previous Generation - 1st),,,\\r\\nKindle Paperwhite,,,': 'Streaming Devices & Smart Speakers',\n",
        "    'Kindle Paperwhite,,,\\r\\nKindle Paperwhite,,,': 'E-readers',\n",
        "    'Amazon Fire Kids Edition Tablet, 7 Display, Wi-Fi, 16 GB, Blue Kid-Proof Case - Blue': 'Tablets',\n",
        "    'Kindle Paperwhite E-reader - White, 6 High-Resolution Display (300 ppi) with Built-in Light, Wi-Fi - Includes Special Offers,,': 'E-readers',\n",
        "    'Amazon Echo and Fire TV Power Adapter,,,\\r\\nAmazon Echo and Fire TV Power Adapter,,,': 'Accessories',\n",
        "    'Amazon Fire Hd 8 8in Tablet 16gb Black B018szt3bk 6th Gen (2016) Android,,,\\r\\nAmazon Fire Hd 8 8in Tablet 16gb Black B018szt3bk 6th Gen (2016) Android,,,': 'Tablets',\n",
        "    'Certified Refurbished Amazon Fire TV with Alexa Voice Remote,,,\\r\\nCertified Refurbished Amazon Fire TV with Alexa Voice Remote,,,': 'Streaming Devices & Smart Speakers',\n",
        "    'Amazon - Fire 16GB (5th Gen, 2015 Release) - Black,,,\\r\\nAmazon - Fire 16GB (5th Gen, 2015 Release) - Black,,,': 'Tablets',\n",
        "    'Fire Tablet, 7 Display, Wi-Fi, 8 GB - Includes Special Offers, Black': 'Tablets',\n",
        "    'Echo (White),,,\\r\\nEcho (White),,,': 'Streaming Devices & Smart Speakers',\n",
        "    'Echo (White),,,\\r\\nFire Tablet, 7 Display, Wi-Fi, 8 GB - Includes Special Offers, Tangerine\"': 'Streaming Devices & Smart Speakers',\n",
        "    'Echo (Black),,,\\r\\nEcho (Black),,,': 'Streaming Devices & Smart Speakers',\n",
        "    'Echo (Black),,,\\r\\nAmazon 9W PowerFast Official OEM USB Charger and Power Adapter for Fire Tablets and Kindle eReaders,,,': 'Accessories',\n",
        "    'Amazon 9W PowerFast Official OEM USB Charger and Power Adapter for Fire Tablets and Kindle eReaders,,,\\r\\nAmazon 9W PowerFast Official OEM USB Charger and Power Adapter for Fire Tablets and Kindle eReaders,,,': 'Accessories',\n",
        "    'Amazon Fire Hd 6 Standing Protective Case(4th Generation - 2014 Release), Cayenne Red,,,\\r\\nAmazon Fire Hd 6 Standing Protective Case(4th Generation - 2014 Release), Cayenne Red,,,': 'Accessories',\n",
        "    'Amazon Fire Hd 6 Standing Protective Case(4th Generation - 2014 Release), Cayenne Red,,,\\r\\nAmazon 5W USB Official OEM Charger and Power Adapter for Fire Tablets and Kindle eReaders,,,': 'Accessories',\n",
        "    'Amazon Fire Hd 10 Tablet, Wi-Fi, 16 Gb, Special Offers - Silver Aluminum,,,\\r\\nAmazon Fire Hd 10 Tablet, Wi-Fi, 16 Gb, Special Offers - Silver Aluminum,,,': 'Tablets',\n",
        "    'Amazon - Amazon Tap Portable Bluetooth and Wi-Fi Speaker - Black,,,\\r\\nAmazon - Amazon Tap Portable Bluetooth and Wi-Fi Speaker - Black,,,': 'Streaming Devices & Smart Speakers',\n",
        "    'Coconut Water Red Tea 16.5 Oz (pack of 12),,,\\r\\nAmazon Fire Tv,,,': 'Streaming Devices & Smart Speakers',\n",
        "    'Amazon Fire Tv,,,\\r\\nAmazon Fire Tv,,,': 'Streaming Devices & Smart Speakers',\n",
        "    'Amazon Fire Tv,,,\\r\\nKindle Dx Leather Cover, Black (fits 9.7 Display, Latest and 2nd Generation Kindle Dxs)\",,': 'Accessories',\n",
        "    'Kindle Dx Leather Cover, Black (fits 9.7 Display, Latest and 2nd Generation Kindle Dxs),,': 'Accessories',\n",
        "    'Amazon Kindle Fire 5ft USB to Micro-USB Cable (works with most Micro-USB Tablets),,,\\r\\nAmazon Kindle Fire 5ft USB to Micro-USB Cable (works with most Micro-USB Tablets),,,': 'Accessories',\n",
        "    'New Amazon Kindle Fire Hd 9w Powerfast Adapter Charger + Micro Usb Angle Cable,,,\\r\\nNew Amazon Kindle Fire Hd 9w Powerfast Adapter Charger + Micro Usb Angle Cable,,,': 'Accessories',\n",
        "    'New Amazon Kindle Fire Hd 9w Powerfast Adapter Charger + Micro Usb Angle Cable,,,\\r\\n': 'Accessories',\n",
        "    'NA': 'Uncategorized'   # for products with no names\n",
        "}\n",
        "\n",
        "\n",
        "\n",
        "na_categories = {\n",
        "    'Stereos,Remote Controls,Amazon Echo,Audio Docks & Mini Speakers,Amazon Echo Accessories,Kitchen & Dining Features,Speaker Systems,Electronics,TVs Entertainment,Clearance,Smart Hubs & Wireless Routers,Featured Brands,Wireless Speakers,Smart Home & Connected Living,Home Security,Kindle Store,Home Automation,Home, Garage & Office,Home,Voice-Enabled Smart Assistants,Virtual Assistant Speakers,Portable Audio & Headphones,Electronics Features,Amazon Device Accessories,iPod, Audio Player Accessories,Home & Furniture Clearance,Consumer Electronics,Smart Home,Surveillance,Home Improvement,Smart Home & Home Automation Devices,Smart Hubs,Home Safety & Security,Voice Assistants,Alarms & Sensors,Amazon Devices,Audio,Holiday Shop': 'Streaming Devices & Smart Speakers',\n",
        "    'Fire Tablets,Tablets,Computers & Tablets,All Tablets,Frys': 'Tablets',\n",
        "    'TVs Entertainment,Wireless Speakers,Virtual Assistant Speakers,Featured Brands,Electronics,Amazon Devices,Home,Home Improvement,Home Safety & Security,Home Security,Alarms & Sensors,Smart Home & Home Automation Devices,Smart Hubs & Wireless Routers,Smart Hubs,Consumer Electronics,Voice-Enabled Smart Assistants,Smart Home & Connected Living,Home, Garage & Office,Smart Home,Voice Assistants,Surveillance,Home Automation,Speakers,Electronics Features,Holiday Shop,TV, Video & Home Audio,Internet & Media Streamers,Amazon Echo,Hubs & Controllers': 'Streaming Devices & Smart Speakers',\n",
        "    'Chargers & Adapters,Computers & Accessories,Tablet & E-Reader Accessories,Amazon Devices & Accessories,Fire Tablet Accessories,Electronics,Power Adapters & Cables,Cell Phones,Amazon Device Accessories,Cell Phone Accessories,Cell Phone Batteries & Power,Tablet Accessories,Featured Brands,Kindle Fire (2nd Generation) Accessories,Kindle Store,Home Improvement,Fire (5th Generation) Accessories,Electrical,Amazon Devices,Home,Tablets & E-Readers,Cables & Chargers': 'Accessories',\n",
        "    'Cases,Kindle Store,Amazon Device Accessories,Accessories,Tablet Accessories': 'Accessories',\n",
        "    'Electronics,eBook Readers & Accessories,Power Adapters,Computers/Tablets & Networking,Tablet & eBook Reader Accs,Chargers & Sync Cables,Power Adapters & Cables,Kindle Store,Amazon Device Accessories,Kindle Fire (2nd Generation) Accessories,Fire Tablet Accessories': 'Accessories',\n",
        "    'Electronics,Tablets & E-Readers,Tablets,Back To College,College Electronics,College Ipads & Tablets,Featured Brands,Amazon Devices,Electronics Deals,Computers & Tablets,All Tablets,Electronics Features,eBook Readers': 'Tablets',\n",
        "    'Featured Brands,Electronics,Amazon Devices,Home,Home Improvement,Home Safety & Security,Home Security,Alarms & Sensors,Smart Home & Home Automation Devices,Mobile,Mobile Speakers,Mobile Bluetooth Speakers,Smart Hubs & Wireless Routers,Smart Hubs,Home, Garage & Office,Smart Home,Voice Assistants,Smart Home & Connected Living,Amazon Tap,Portable Audio,MP3 Accessories,Speakers,Amazon Echo,Electronics Features,TVs & Electronics,Portable Audio & Electronics,MP3 Player Accessories,Home Theater & Audio,Kindle Store,Frys,Electronic Components,Home Automation,Electronics, Tech Toys, Movies, Music,Audio,Bluetooth Speakers': 'Streaming Devices & Smart Speakers',\n",
        "    'Rice Dishes,Ready Meals,Beauty,Moisturizers,Lotions': 'Food & Beverages',\n",
        "    'Back To College,College Electronics,College Tvs & Home Theater,Electronics,Tvs & Home Theater,Streaming Devices,Featured Brands,Amazon Devices,Holiday Shop,Ways To Shop,TV & Home Theater,Streaming Media Players,All Streaming Media Players,TVs Entertainment,Video Games,Kindle Store,Electronics Features,Kids & Family,Fire TV': 'Streaming Devices & Smart Speakers',\n",
        "    'Electronics,Amazon Device Accessories,Kindle Store,Covers,Kindle E-Reader Accessories,Kindle DX (2nd Generation, Global Wireless) Accessories': 'Accessories',\n",
        "    'Power Adapters & Cables,Electronics,USB Cables': 'Accessories',\n",
        "    'Computers/Tablets & Networking,Tablet & eBook Reader Accs,Chargers & Sync Cables,Power Adapters & Cables,Kindle Store,Amazon Device Accessories,Fire Tablet Accessories,Kindle Fire (2nd Generation) Accessories': 'Accessories'\n",
        "}\n"
      ]
    },
    {
      "cell_type": "code",
      "execution_count": 14,
      "id": "0a965166-b671-45ce-831a-d3647db02b30",
      "metadata": {
        "id": "0a965166-b671-45ce-831a-d3647db02b30"
      },
      "outputs": [],
      "source": [
        "## Mapping\n",
        "df['primaryCategories'] = df['name'].map(name_categories).fillna('Uncategorized')   # 1st mapping: setting primary category based on product name else; Uncategorized\n",
        "uncategorized_mask = df['primaryCategories'] == 'Uncategorized'   # defining mask for second mapping\n",
        "df.loc[uncategorized_mask, 'primaryCategories'] = df.loc[uncategorized_mask, 'categories'].map(na_categories) # 2nd mapping:"
      ]
    },
    {
      "cell_type": "code",
      "execution_count": 15,
      "id": "4f065477-1ccf-489a-a87f-b9fa9daee19a",
      "metadata": {
        "colab": {
          "base_uri": "https://localhost:8080/"
        },
        "id": "4f065477-1ccf-489a-a87f-b9fa9daee19a",
        "outputId": "1432406f-87d0-4f09-945a-e61a78546b3c"
      },
      "outputs": [
        {
          "output_type": "execute_result",
          "data": {
            "text/plain": [
              "primaryCategories\n",
              "Tablets                               16546\n",
              "Streaming Devices & Smart Speakers    12538\n",
              "E-readers                              4934\n",
              "Accessories                             428\n",
              "Food & Beverages                          1\n",
              "Name: count, dtype: int64"
            ]
          },
          "metadata": {},
          "execution_count": 15
        }
      ],
      "source": [
        "df['primaryCategories'].value_counts()"
      ]
    },
    {
      "cell_type": "code",
      "execution_count": 17,
      "id": "351bee61-0375-4ede-bbc2-4b9a767a08a4",
      "metadata": {
        "id": "351bee61-0375-4ede-bbc2-4b9a767a08a4"
      },
      "outputs": [],
      "source": [
        "df = df[df['primaryCategories'] != 'Food & Beverages'] # dropping this single review on a drink"
      ]
    },
    {
      "cell_type": "code",
      "execution_count": 18,
      "id": "3314fd69",
      "metadata": {
        "colab": {
          "base_uri": "https://localhost:8080/"
        },
        "id": "3314fd69",
        "outputId": "79ace063-21d9-4b78-81a8-fa212e79a0a2"
      },
      "outputs": [
        {
          "output_type": "execute_result",
          "data": {
            "text/plain": [
              "primaryCategories\n",
              "Tablets                               16546\n",
              "Streaming Devices & Smart Speakers    12538\n",
              "E-readers                              4934\n",
              "Accessories                             428\n",
              "Name: count, dtype: int64"
            ]
          },
          "metadata": {},
          "execution_count": 18
        }
      ],
      "source": [
        "df['primaryCategories'].value_counts()"
      ]
    },
    {
      "cell_type": "code",
      "execution_count": null,
      "id": "7d79490a-7407-4665-89b0-f2a8d33e27c1",
      "metadata": {
        "id": "7d79490a-7407-4665-89b0-f2a8d33e27c1"
      },
      "outputs": [],
      "source": [
        "#Saving\n",
        "#df.to_csv('mapped_categories.csv', index=False)"
      ]
    }
  ],
  "metadata": {
    "kernelspec": {
      "display_name": "Python 3 (ipykernel)",
      "language": "python",
      "name": "python3"
    },
    "language_info": {
      "codemirror_mode": {
        "name": "ipython",
        "version": 3
      },
      "file_extension": ".py",
      "mimetype": "text/x-python",
      "name": "python",
      "nbconvert_exporter": "python",
      "pygments_lexer": "ipython3",
      "version": "3.11.9"
    },
    "toc": {
      "base_numbering": 1,
      "nav_menu": {},
      "number_sections": true,
      "sideBar": true,
      "skip_h1_title": false,
      "title_cell": "Table of Contents",
      "title_sidebar": "Contents",
      "toc_cell": true,
      "toc_position": {},
      "toc_section_display": true,
      "toc_window_display": false
    },
    "varInspector": {
      "cols": {
        "lenName": 16,
        "lenType": 16,
        "lenVar": 40
      },
      "kernels_config": {
        "python": {
          "delete_cmd_postfix": "",
          "delete_cmd_prefix": "del ",
          "library": "var_list.py",
          "varRefreshCmd": "print(var_dic_list())"
        },
        "r": {
          "delete_cmd_postfix": ") ",
          "delete_cmd_prefix": "rm(",
          "library": "var_list.r",
          "varRefreshCmd": "cat(var_dic_list()) "
        }
      },
      "types_to_exclude": [
        "module",
        "function",
        "builtin_function_or_method",
        "instance",
        "_Feature"
      ],
      "window_display": false
    },
    "colab": {
      "provenance": []
    }
  },
  "nbformat": 4,
  "nbformat_minor": 5
}