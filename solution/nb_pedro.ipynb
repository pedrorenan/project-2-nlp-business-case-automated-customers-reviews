{
 "cells": [
  {
   "cell_type": "markdown",
   "metadata": {},
   "source": [
    "# Transformer approach (HuggingFace API) \n",
    "\n",
    "I will try DistilBERT and ALBERT for this task."
   ]
  },
  {
   "cell_type": "markdown",
   "metadata": {},
   "source": [
    "## Setup"
   ]
  },
  {
   "cell_type": "code",
   "execution_count": 13,
   "metadata": {},
   "outputs": [],
   "source": [
    "import pandas as pd\n",
    "import nltk\n",
    "from nltk.corpus import stopwords\n",
    "from nltk.tokenize import word_tokenize\n",
    "from nltk.stem import PorterStemmer\n",
    "from transformers import DistilBertTokenizer, TFDistilBertForSequenceClassification\n",
    "\n",
    "\n",
    "df = pd.read_csv('1429_1.csv', usecols=['id', 'reviews.text', 'reviews.title'])"
   ]
  },
  {
   "cell_type": "code",
   "execution_count": 14,
   "metadata": {},
   "outputs": [
    {
     "name": "stdout",
     "output_type": "stream",
     "text": [
      "Head\n",
      "                     id                                       reviews.text  \\\n",
      "0  AVqkIhwDv8e3D1O-lebb  This product so far has not disappointed. My c...   \n",
      "1  AVqkIhwDv8e3D1O-lebb  great for beginner or experienced person. Boug...   \n",
      "2  AVqkIhwDv8e3D1O-lebb  Inexpensive tablet for him to use and learn on...   \n",
      "3  AVqkIhwDv8e3D1O-lebb  I've had my Fire HD 8 two weeks now and I love...   \n",
      "4  AVqkIhwDv8e3D1O-lebb  I bought this for my grand daughter when she c...   \n",
      "\n",
      "                             reviews.title  \n",
      "0                                   Kindle  \n",
      "1                                very fast  \n",
      "2  Beginner tablet for our 9 year old son.  \n",
      "3                                  Good!!!  \n",
      "4                Fantastic Tablet for kids  \n"
     ]
    }
   ],
   "source": [
    "print(\"Head\")\n",
    "print(df.head())"
   ]
  },
  {
   "cell_type": "code",
   "execution_count": 15,
   "metadata": {},
   "outputs": [
    {
     "name": "stdout",
     "output_type": "stream",
     "text": [
      "Info\n",
      "<class 'pandas.core.frame.DataFrame'>\n",
      "RangeIndex: 34660 entries, 0 to 34659\n",
      "Data columns (total 3 columns):\n",
      " #   Column         Non-Null Count  Dtype \n",
      "---  ------         --------------  ----- \n",
      " 0   id             34660 non-null  object\n",
      " 1   reviews.text   34659 non-null  object\n",
      " 2   reviews.title  34654 non-null  object\n",
      "dtypes: object(3)\n",
      "memory usage: 812.5+ KB\n",
      "None\n"
     ]
    }
   ],
   "source": [
    "print(\"Info\")\n",
    "print(df.info())"
   ]
  },
  {
   "cell_type": "code",
   "execution_count": 16,
   "metadata": {},
   "outputs": [
    {
     "name": "stdout",
     "output_type": "stream",
     "text": [
      "Describe\n",
      "                          id  \\\n",
      "count                  34660   \n",
      "unique                    42   \n",
      "top     AVphgVaX1cnluZ0-DR74   \n",
      "freq                   10966   \n",
      "\n",
      "                                             reviews.text  reviews.title  \n",
      "count                                               34659          34654  \n",
      "unique                                              34659          19766  \n",
      "top     This product so far has not disappointed. My c...  Great product  \n",
      "freq                                                    1            645  \n"
     ]
    }
   ],
   "source": [
    "print(\"Describe\")\n",
    "print(df.describe())"
   ]
  },
  {
   "cell_type": "code",
   "execution_count": 20,
   "metadata": {},
   "outputs": [
    {
     "name": "stdout",
     "output_type": "stream",
     "text": [
      "                         id  \\\n",
      "3083   AVsRjfwAU2_QcyX9PHqe   \n",
      "3111   AVsRjfwAU2_QcyX9PHqe   \n",
      "21738  AV1YnR7wglJLPUi8IJmi   \n",
      "21953  AVpfl8cLLJeJML43AE3S   \n",
      "25515  AVpfl8cLLJeJML43AE3S   \n",
      "28578  AVzoGHhAglJLPUi8GfzY   \n",
      "28680  AVpidLjVilAPnD_xEVpI   \n",
      "\n",
      "                                            reviews.text reviews.title  \n",
      "3083                                   A must have item.           NaN  \n",
      "3111                                                 NaN    Five Stars  \n",
      "21738  Good device for a school age child convent use...           NaN  \n",
      "21953                 I like it. I use mostly for music.           NaN  \n",
      "25515  I was totally stoked about this product becaus...           NaN  \n",
      "28578                           I'm in LOVE with ALEXA!!           NaN  \n",
      "28680  Love it ! I started with a kindle,then a fire ...           NaN  \n"
     ]
    }
   ],
   "source": []
  },
  {
   "cell_type": "code",
   "execution_count": 21,
   "metadata": {},
   "outputs": [
    {
     "name": "stdout",
     "output_type": "stream",
     "text": [
      "Null values\n",
      "id               0\n",
      "reviews.text     1\n",
      "reviews.title    6\n",
      "dtype: int64\n",
      "                         id  \\\n",
      "3083   AVsRjfwAU2_QcyX9PHqe   \n",
      "3111   AVsRjfwAU2_QcyX9PHqe   \n",
      "21738  AV1YnR7wglJLPUi8IJmi   \n",
      "21953  AVpfl8cLLJeJML43AE3S   \n",
      "25515  AVpfl8cLLJeJML43AE3S   \n",
      "28578  AVzoGHhAglJLPUi8GfzY   \n",
      "28680  AVpidLjVilAPnD_xEVpI   \n",
      "\n",
      "                                            reviews.text reviews.title  \n",
      "3083                                   A must have item.           NaN  \n",
      "3111                                                 NaN    Five Stars  \n",
      "21738  Good device for a school age child convent use...           NaN  \n",
      "21953                 I like it. I use mostly for music.           NaN  \n",
      "25515  I was totally stoked about this product becaus...           NaN  \n",
      "28578                           I'm in LOVE with ALEXA!!           NaN  \n",
      "28680  Love it ! I started with a kindle,then a fire ...           NaN  \n"
     ]
    }
   ],
   "source": [
    "print(\"Null values\")\n",
    "df.dropna(subset=['reviews.text', 'reviews.title'], how='all', inplace=True)\n",
    "print(df.isnull().sum())\n",
    "\n",
    "null_rows = df[df['reviews.text'].isnull() | df['reviews.title'].isnull()]\n",
    "print(null_rows)"
   ]
  },
  {
   "cell_type": "code",
   "execution_count": 25,
   "metadata": {},
   "outputs": [
    {
     "name": "stderr",
     "output_type": "stream",
     "text": [
      "[nltk_data] Downloading package punkt to\n",
      "[nltk_data]     /Users/pedrorenan/nltk_data...\n",
      "[nltk_data]   Package punkt is already up-to-date!\n",
      "[nltk_data] Downloading package stopwords to\n",
      "[nltk_data]     /Users/pedrorenan/nltk_data...\n",
      "[nltk_data]   Package stopwords is already up-to-date!\n"
     ]
    },
    {
     "name": "stdout",
     "output_type": "stream",
     "text": [
      "                     id                                       reviews.text  \\\n",
      "0  AVqkIhwDv8e3D1O-lebb  This product so far has not disappointed. My c...   \n",
      "1  AVqkIhwDv8e3D1O-lebb  great for beginner or experienced person. Boug...   \n",
      "2  AVqkIhwDv8e3D1O-lebb  Inexpensive tablet for him to use and learn on...   \n",
      "3  AVqkIhwDv8e3D1O-lebb  I've had my Fire HD 8 two weeks now and I love...   \n",
      "4  AVqkIhwDv8e3D1O-lebb  I bought this for my grand daughter when she c...   \n",
      "\n",
      "                             reviews.title  \\\n",
      "0                                   Kindle   \n",
      "1                                very fast   \n",
      "2  Beginner tablet for our 9 year old son.   \n",
      "3                                  Good!!!   \n",
      "4                Fantastic Tablet for kids   \n",
      "\n",
      "                                   preprocessed_text  \\\n",
      "0  product far disappoint children love use like ...   \n",
      "1     great beginn experienc person bought gift love   \n",
      "2  inexpens tablet use learn step nabi thrill lea...   \n",
      "3  fire hd 8 two week love tablet great prime mem...   \n",
      "4  bought grand daughter come visit set user ente...   \n",
      "\n",
      "             preprocessed_title  \n",
      "0                        kindle  \n",
      "1                          fast  \n",
      "2  beginn tablet 9 year old son  \n",
      "3                          good  \n",
      "4            fantast tablet kid  \n"
     ]
    }
   ],
   "source": [
    "nltk.download('punkt')\n",
    "nltk.download('stopwords')\n",
    "\n",
    "exceptions = [\"kindle\"]\n",
    "\n",
    "def preprocess(text):\n",
    "    text = str(text).lower()\n",
    "    tokens = word_tokenize(text)\n",
    "    tokens = [word for word in tokens if word.isalnum()]\n",
    "    stop_words = set(stopwords.words('english'))\n",
    "    tokens = [word for word in tokens if not word in stop_words]\n",
    "    stemmer = PorterStemmer()\n",
    "    tokens = [word if word in exceptions else stemmer.stem(word) for word in tokens]\n",
    "    return ' '.join(tokens)\n",
    "\n",
    "df['preprocessed_text'] = df['reviews.text'].apply(preprocess)\n",
    "df['preprocessed_title'] = df['reviews.title'].apply(preprocess)\n",
    "\n",
    "print(df.head())\n",
    "\n",
    "     "
   ]
  }
 ],
 "metadata": {
  "kernelspec": {
   "display_name": "base",
   "language": "python",
   "name": "python3"
  },
  "language_info": {
   "codemirror_mode": {
    "name": "ipython",
    "version": 3
   },
   "file_extension": ".py",
   "mimetype": "text/x-python",
   "name": "python",
   "nbconvert_exporter": "python",
   "pygments_lexer": "ipython3",
   "version": "3.11.7"
  }
 },
 "nbformat": 4,
 "nbformat_minor": 2
}
